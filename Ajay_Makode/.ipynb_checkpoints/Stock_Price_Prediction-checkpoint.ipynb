{
 "cells": [
  {
   "cell_type": "code",
   "execution_count": 34,
   "metadata": {},
   "outputs": [],
   "source": [
    "# Import Different packages\n",
    "import quandl, math\n",
    "import numpy as np\n",
    "import pandas as pd\n",
    "import matplotlib.pyplot as plt\n",
    "from matplotlib import style\n",
    "\n",
    "from sklearn import preprocessing\n",
    "from sklearn.model_selection import train_test_split\n",
    "from sklearn import svm\n",
    "from sklearn.linear_model import LinearRegression\n",
    "\n",
    "import datetime\n"
   ]
  },
  {
   "cell_type": "code",
   "execution_count": 35,
   "metadata": {},
   "outputs": [
    {
     "name": "stdout",
     "output_type": "stream",
     "text": [
      "We are In Amazon World....\n",
      "               Open     High      Low    Close     Volume  Ex-Dividend  \\\n",
      "Date                                                                     \n",
      "1997-05-16    22.38    23.75    20.50    20.75  1225000.0          0.0   \n",
      "1997-05-19    20.50    21.25    19.50    20.50   508900.0          0.0   \n",
      "1997-05-20    20.75    21.00    19.63    19.63   455600.0          0.0   \n",
      "1997-05-21    19.25    19.75    16.50    17.13  1571100.0          0.0   \n",
      "1997-05-22    17.25    17.38    15.75    16.75   981400.0          0.0   \n",
      "...             ...      ...      ...      ...        ...          ...   \n",
      "2018-03-21  1586.45  1590.00  1563.17  1581.86  4667291.0          0.0   \n",
      "2018-03-22  1565.47  1573.85  1542.40  1544.10  6177737.0          0.0   \n",
      "2018-03-23  1539.01  1549.02  1495.36  1495.56  7843966.0          0.0   \n",
      "2018-03-26  1530.00  1556.99  1499.25  1555.86  5547618.0          0.0   \n",
      "2018-03-27  1572.40  1575.96  1482.32  1497.05  6793279.0          0.0   \n",
      "\n",
      "            Split Ratio    Adj. Open    Adj. High     Adj. Low   Adj. Close  \\\n",
      "Date                                                                          \n",
      "1997-05-16          1.0     1.865000     1.979167     1.708333     1.729167   \n",
      "1997-05-19          1.0     1.708333     1.770833     1.625000     1.708333   \n",
      "1997-05-20          1.0     1.729167     1.750000     1.635833     1.635833   \n",
      "1997-05-21          1.0     1.604167     1.645833     1.375000     1.427500   \n",
      "1997-05-22          1.0     1.437500     1.448333     1.312500     1.395833   \n",
      "...                 ...          ...          ...          ...          ...   \n",
      "2018-03-21          1.0  1586.450000  1590.000000  1563.170000  1581.860000   \n",
      "2018-03-22          1.0  1565.470000  1573.850000  1542.400000  1544.100000   \n",
      "2018-03-23          1.0  1539.010000  1549.020000  1495.360000  1495.560000   \n",
      "2018-03-26          1.0  1530.000000  1556.990000  1499.250000  1555.860000   \n",
      "2018-03-27          1.0  1572.400000  1575.960000  1482.320000  1497.050000   \n",
      "\n",
      "            Adj. Volume  \n",
      "Date                     \n",
      "1997-05-16   14700000.0  \n",
      "1997-05-19    6106800.0  \n",
      "1997-05-20    5467200.0  \n",
      "1997-05-21   18853200.0  \n",
      "1997-05-22   11776800.0  \n",
      "...                 ...  \n",
      "2018-03-21    4667291.0  \n",
      "2018-03-22    6177737.0  \n",
      "2018-03-23    7843966.0  \n",
      "2018-03-26    5547618.0  \n",
      "2018-03-27    6793279.0  \n",
      "\n",
      "[5248 rows x 12 columns]\n",
      "We are coming out of Amazon World\n"
     ]
    }
   ],
   "source": [
    "# Selecting Style\n",
    "style.use('ggplot')\n",
    "# Importing Data from Dataset\n",
    "quandl.ApiConfig.api_key = \"LUyuuU3vNsP2WxtLrVtc\"\n",
    "df = quandl.get(\"WIKI/AMZN\")\n",
    "print(\"We are In Amazon World....\")\n",
    "print(df)\n",
    "print(\"We are coming out of Amazon World\")"
   ]
  },
  {
   "cell_type": "code",
   "execution_count": 36,
   "metadata": {},
   "outputs": [
    {
     "name": "stdout",
     "output_type": "stream",
     "text": [
      "Printing Seleccted Features....\n",
      "              Adj. Open    Adj. High     Adj. Low   Adj. Close  Adj. Volume  \\\n",
      "Date                                                                          \n",
      "1997-05-16     1.865000     1.979167     1.708333     1.729167   14700000.0   \n",
      "1997-05-19     1.708333     1.770833     1.625000     1.708333    6106800.0   \n",
      "1997-05-20     1.729167     1.750000     1.635833     1.635833    5467200.0   \n",
      "1997-05-21     1.604167     1.645833     1.375000     1.427500   18853200.0   \n",
      "1997-05-22     1.437500     1.448333     1.312500     1.395833   11776800.0   \n",
      "...                 ...          ...          ...          ...          ...   \n",
      "2018-03-21  1586.450000  1590.000000  1563.170000  1581.860000    4667291.0   \n",
      "2018-03-22  1565.470000  1573.850000  1542.400000  1544.100000    6177737.0   \n",
      "2018-03-23  1539.010000  1549.020000  1495.360000  1495.560000    7843966.0   \n",
      "2018-03-26  1530.000000  1556.990000  1499.250000  1555.860000    5547618.0   \n",
      "2018-03-27  1572.400000  1575.960000  1482.320000  1497.050000    6793279.0   \n",
      "\n",
      "            Ex-Dividend  \n",
      "Date                     \n",
      "1997-05-16          0.0  \n",
      "1997-05-19          0.0  \n",
      "1997-05-20          0.0  \n",
      "1997-05-21          0.0  \n",
      "1997-05-22          0.0  \n",
      "...                 ...  \n",
      "2018-03-21          0.0  \n",
      "2018-03-22          0.0  \n",
      "2018-03-23          0.0  \n",
      "2018-03-26          0.0  \n",
      "2018-03-27          0.0  \n",
      "\n",
      "[5248 rows x 6 columns]\n",
      "End of Selected Features!!!\n"
     ]
    }
   ],
   "source": [
    "from ipykernel import kernelapp as app\n",
    "\"\"\"\n",
    "## We will usiing adjusted values only as it gives better results.\n",
    "# Selected Features are \n",
    "- Adj. Open\n",
    "- Adj. Close\n",
    "- Adj. Low\n",
    "- Adj. High\n",
    "- Adj. Volume\n",
    "- Ex-Divident\n",
    "\"\"\"\n",
    "df = df[['Adj. Open', 'Adj. High', 'Adj. Low', 'Adj. Close', 'Adj. Volume', 'Ex-Dividend']]\n",
    "print(\"Printing Seleccted Features....\")\n",
    "print(df)\n",
    "print(\"End of Selected Features!!!\")\n",
    "df['H_L_PERCENTAGE'] = (df['Adj. High'] - df['Adj. Low']) / df['Adj. Low'] * 100.0\n",
    "df['PERCENTAGE_CHANGE'] = (df['Adj. Close'] - df['Adj. Open']) / df['Adj. Open'] * 100.0\n",
    "\n",
    "# Creating final Feature sets after Preprocessing or Reduced Feature set\n",
    "df = df[['Adj. Close', 'H_L_PERCENTAGE', 'PERCENTAGE_CHANGE', 'Adj. Volume', 'Ex-Dividend']]\n",
    "forecast_col = 'Adj. Close'\n"
   ]
  },
  {
   "cell_type": "code",
   "execution_count": 37,
   "metadata": {},
   "outputs": [],
   "source": [
    "# Fill NAN data with some value\n",
    "df.fillna(value= -99999, inplace = True)\n",
    "forecast_out = int(math.ceil(0.01 * len(df)))\n",
    "df['label'] = df[forecast_col].shift(-forecast_out)\n"
   ]
  },
  {
   "cell_type": "code",
   "execution_count": 38,
   "metadata": {},
   "outputs": [
    {
     "name": "stdout",
     "output_type": "stream",
     "text": [
      "[   2.41666667    2.3125        2.20833333 ... 1495.56       1555.86\n",
      " 1497.05      ]\n"
     ]
    }
   ],
   "source": [
    "\"\"\"\n",
    "##Features\n",
    "- Create Label X \n",
    "- Convert this input data in numpy array\n",
    "- Preprocess the data by scaling it\n",
    "- Create Label Y\n",
    "\"\"\"\n",
    "X = np.array(df.drop(['label'],1))\n",
    "X = preprocessing.scale(X)\n",
    "X_lately = X[-forecast_out:]\n",
    "X = X[:-forecast_out]\n",
    "\n",
    "df.dropna(inplace=True)\n",
    "\n",
    "y = np.array(df['label'])\n",
    "print(y)\n"
   ]
  },
  {
   "cell_type": "code",
   "execution_count": 39,
   "metadata": {},
   "outputs": [
    {
     "name": "stdout",
     "output_type": "stream",
     "text": [
      "(3636, 5) (3636,)\n",
      "(1559, 5) (1559,)\n"
     ]
    }
   ],
   "source": [
    "\"\"\"\n",
    "## Select Algorithm based on data Analysis\n",
    "- Split Training and Testing data\n",
    "- We will be using Linear Regression as this regression problem\n",
    "- Training Data : 70%\n",
    "- Testing Data : 30%\n",
    "\"\"\"\n",
    "X_train, X_test, y_train, y_test = train_test_split(X, y, test_size=0.3)\n",
    "print(X_train.shape, y_train.shape)\n",
    "print(X_test.shape, y_test.shape)\n"
   ]
  },
  {
   "cell_type": "code",
   "execution_count": 41,
   "metadata": {},
   "outputs": [],
   "source": [
    "# fit a model\n",
    "lm = LinearRegression()\n",
    "model = lm.fit(X_train, y_train)\n",
    "predictions = lm.predict(X_test)"
   ]
  },
  {
   "cell_type": "code",
   "execution_count": 45,
   "metadata": {},
   "outputs": [
    {
     "data": {
      "text/plain": [
       "Text(0, 0.5, 'Predicted Values')"
      ]
     },
     "execution_count": 45,
     "metadata": {},
     "output_type": "execute_result"
    },
    {
     "data": {
      "image/png": "[encoded data removed]",
      "text/plain": [
       "<Figure size 432x288 with 1 Axes>"
      ]
     },
     "metadata": {},
     "output_type": "display_data"
    }
   ],
   "source": [
    "## The line / model\n",
    "plt.scatter(y_test, predictions)\n",
    "plt.xlabel('Actual Values')\n",
    "plt.ylabel('Predicted Values')"
   ]
  },
  {
   "cell_type": "code",
   "execution_count": 46,
   "metadata": {},
   "outputs": [
    {
     "name": "stdout",
     "output_type": "stream",
     "text": [
      "0.976210391957835\n"
     ]
    }
   ],
   "source": [
    "# print the accuracy score\n",
    "accuracy = model.score(X_test, y_test)\n",
    "print(accuracy)"
   ]
  },
  {
   "cell_type": "code",
   "execution_count": 49,
   "metadata": {},
   "outputs": [
    {
     "name": "stdout",
     "output_type": "stream",
     "text": [
      "Cross-validated scores: [1. 1. 1. 1. 1. 1.]\n"
     ]
    },
    {
     "data": {
      "text/plain": [
       "<matplotlib.collections.PathCollection at 0x1a1f534450>"
      ]
     },
     "execution_count": 49,
     "metadata": {},
     "output_type": "execute_result"
    },
    {
     "data": {
      "image/png": "[encoded data removed]",
      "text/plain": [
       "<Figure size 432x288 with 1 Axes>"
      ]
     },
     "metadata": {},
     "output_type": "display_data"
    }
   ],
   "source": [
    "# Necessary imports: \n",
    "from sklearn.model_selection import cross_val_score, cross_val_predict\n",
    "from sklearn import metrics\n",
    "# Perform 6-fold cross validation\n",
    "scores = cross_val_score(model, df, y, cv=6)\n",
    "print('Cross-validated scores:', scores)\n",
    "# Make cross validated predictions\n",
    "predictions = cross_val_predict(model, df, y, cv=6)\n",
    "plt.scatter(y, predictions)\n"
   ]
  },
  {
   "cell_type": "code",
   "execution_count": 50,
   "metadata": {},
   "outputs": [
    {
     "name": "stdout",
     "output_type": "stream",
     "text": [
      "Cross-Predicted Accuracy: 1.0\n"
     ]
    }
   ],
   "source": [
    "accuracy1 = metrics.r2_score(y, predictions)\n",
    "print('Cross-Predicted Accuracy:', accuracy1)"
   ]
  },
  {
   "cell_type": "code",
   "execution_count": null,
   "metadata": {},
   "outputs": [],
   "source": []
  }
 ],
 "metadata": {
  "kernelspec": {
   "display_name": "Python 3",
   "language": "python",
   "name": "python3"
  },
  "language_info": {
   "codemirror_mode": {
    "name": "ipython",
    "version": 3
   },
   "file_extension": ".py",
   "mimetype": "text/x-python",
   "name": "python",
   "nbconvert_exporter": "python",
   "pygments_lexer": "ipython3",
   "version": "3.7.4"
  }
 },
 "nbformat": 4,
 "nbformat_minor": 2
}
